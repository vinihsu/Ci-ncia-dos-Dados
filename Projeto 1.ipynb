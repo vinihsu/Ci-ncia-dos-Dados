{
 "cells": [
  {
   "cell_type": "markdown",
   "metadata": {},
   "source": [
    "# Import de dados"
   ]
  },
  {
   "cell_type": "code",
   "execution_count": 1,
   "metadata": {
    "collapsed": true
   },
   "outputs": [],
   "source": [
    "import pandas as pd\n",
    "\n",
    "import matplotlib.pyplot as plt\n",
    "import matplotlib\n",
    "%matplotlib inline\n",
    "\n",
    "notas = pd.read_table('DOM2015.csv', encoding=\"windows-1252\", sep=\",\")\n",
    "notas09 = pd.read_table('DOM2009.csv', encoding=\"windows-1252\", sep=\",\")\n",
    "notas14 = pd.read_table('DOM2014.csv', encoding=\"windows-1252\", sep=\",\")\n",
    "notas13 = pd.read_table('DOM2013.csv', encoding=\"windows-1252\", sep=\",\")\n",
    "#notas"
   ]
  },
  {
   "cell_type": "markdown",
   "metadata": {},
   "source": [
    "# Verificação do tipo das colunas"
   ]
  },
  {
   "cell_type": "code",
   "execution_count": 2,
   "metadata": {},
   "outputs": [
    {
     "data": {
      "text/plain": [
       "Unnamed: 0      int64\n",
       "V0101           int64\n",
       "UF              int64\n",
       "V0102           int64\n",
       "V0103           int64\n",
       "V0104           int64\n",
       "V0105         float64\n",
       "V0106         float64\n",
       "V0201         float64\n",
       "V0202         float64\n",
       "V0203         float64\n",
       "V0204         float64\n",
       "V0205         float64\n",
       "V0206         float64\n",
       "V0207         float64\n",
       "V0208         float64\n",
       "V0209         float64\n",
       "V0210         float64\n",
       "V0211         float64\n",
       "V0212         float64\n",
       "V0213         float64\n",
       "V0214         float64\n",
       "V0215         float64\n",
       "V0216         float64\n",
       "V2016         float64\n",
       "V0217         float64\n",
       "V0218         float64\n",
       "V0219         float64\n",
       "V0220         float64\n",
       "V2020         float64\n",
       "               ...   \n",
       "V02324        float64\n",
       "V02325        float64\n",
       "V02326        float64\n",
       "V02327        float64\n",
       "V02424        float64\n",
       "V02425        float64\n",
       "V02426        float64\n",
       "V2032         float64\n",
       "V4105           int64\n",
       "V4107           int64\n",
       "V4600         float64\n",
       "V4601         float64\n",
       "V4602           int64\n",
       "V4604           int64\n",
       "V4605         float64\n",
       "V4606           int64\n",
       "V4607         float64\n",
       "V4608         float64\n",
       "V4609           int64\n",
       "V4610           int64\n",
       "V4611         float64\n",
       "V4614         float64\n",
       "UPA             int64\n",
       "V4617           int64\n",
       "V4618           int64\n",
       "V4620         float64\n",
       "V4621         float64\n",
       "V4622         float64\n",
       "V4624         float64\n",
       "V9992           int64\n",
       "Length: 81, dtype: object"
      ]
     },
     "execution_count": 2,
     "metadata": {},
     "output_type": "execute_result"
    }
   ],
   "source": [
    "notas.dtypes"
   ]
  },
  {
   "cell_type": "markdown",
   "metadata": {},
   "source": [
    "# Mudança do nome das colunas"
   ]
  },
  {
   "cell_type": "code",
   "execution_count": 3,
   "metadata": {
    "collapsed": true
   },
   "outputs": [],
   "source": [
    "notas.V0226 = notas.V0226.astype('category')\n",
    "notas.V0227 = notas.V0227.astype('category')\n",
    "notas.V02272 = notas.V02272.astype('category')\n",
    "notas.V02273 = notas.V02273.astype('category')\n",
    "notas.V02274 = notas.V02274.astype('category')\n",
    "notas.V0232 = notas.V0232.astype('category')\n",
    "notas.V02321 = notas.V02321.astype('category')\n",
    "notas.V02322 = notas.V02322.astype('category')\n",
    "notas.V02323 = notas.V02323.astype('category')\n",
    "notas.V02324 = notas.V02324.astype('category')\n",
    "notas.V02325 = notas.V02325.astype('category')\n",
    "notas.V02326 = notas.V02326.astype('category')\n",
    "notas.V02327 = notas.V02327.astype('category')\n",
    "notas.V02424 = notas.V02424.astype('category')\n",
    "notas.V02425 = notas.V02425.astype('category')\n",
    "notas.V02426 = notas.V02426.astype('category')\n",
    "\n",
    "\n",
    "notas09.V0226 = notas.V0226.astype('category')\n",
    "notas09.V0227 = notas.V0227.astype('category')\n",
    "notas09.V02272 = notas.V02272.astype('category')\n",
    "notas09.V02273 = notas.V02273.astype('category')\n",
    "notas09.V02274 = notas.V02274.astype('category')\n",
    "notas09.V0232 = notas.V0232.astype('category')\n",
    "notas09.V02321 = notas.V02321.astype('category')\n",
    "notas09.V02322 = notas.V02322.astype('category')\n",
    "notas09.V02323 = notas.V02323.astype('category')\n",
    "notas09.V02324 = notas.V02324.astype('category')\n",
    "notas09.V02325 = notas.V02325.astype('category')\n",
    "notas09.V02326 = notas.V02326.astype('category')\n",
    "notas09.V02327 = notas.V02327.astype('category')\n",
    "notas09.V02424 = notas.V02424.astype('category')\n",
    "notas09.V02425 = notas.V02425.astype('category')\n",
    "notas09.V02426 = notas.V02426.astype('category')\n",
    "\n",
    "\n",
    "notas13.V0226 = notas.V0226.astype('category')\n",
    "notas13.V0227 = notas.V0227.astype('category')\n",
    "notas13.V02272 = notas.V02272.astype('category')\n",
    "notas13.V02273 = notas.V02273.astype('category')\n",
    "notas13.V02274 = notas.V02274.astype('category')\n",
    "notas13.V0232 = notas.V0232.astype('category')\n",
    "notas13.V02321 = notas.V02321.astype('category')\n",
    "notas13.V02322 = notas.V02322.astype('category')\n",
    "notas13.V02323 = notas.V02323.astype('category')\n",
    "notas13.V02324 = notas.V02324.astype('category')\n",
    "notas13.V02325 = notas.V02325.astype('category')\n",
    "notas13.V02326 = notas.V02326.astype('category')\n",
    "notas13.V02327 = notas.V02327.astype('category')\n",
    "notas13.V02424 = notas.V02424.astype('category')\n",
    "notas13.V02425 = notas.V02425.astype('category')\n",
    "notas13.V02426 = notas.V02426.astype('category')\n",
    "\n",
    "\n",
    "notas14.V0226 = notas.V0226.astype('category')\n",
    "notas14.V0227 = notas.V0227.astype('category')\n",
    "notas14.V02272 = notas.V02272.astype('category')\n",
    "notas14.V02273 = notas.V02273.astype('category')\n",
    "notas14.V02274 = notas.V02274.astype('category')\n",
    "notas14.V0232 = notas.V0232.astype('category')\n",
    "notas14.V02321 = notas.V02321.astype('category')\n",
    "notas14.V02322 = notas.V02322.astype('category')\n",
    "notas14.V02323 = notas.V02323.astype('category')\n",
    "notas14.V02324 = notas.V02324.astype('category')\n",
    "notas14.V02325 = notas.V02325.astype('category')\n",
    "notas14.V02326 = notas.V02326.astype('category')\n",
    "notas14.V02327 = notas.V02327.astype('category')\n",
    "notas14.V02424 = notas.V02424.astype('category')\n",
    "notas14.V02425 = notas.V02425.astype('category')\n",
    "notas14.V02426 = notas.V02426.astype('category')\n"
   ]
  },
  {
   "cell_type": "markdown",
   "metadata": {},
   "source": [
    "\n",
    "# Troca de valores numérico por valores qualitativos"
   ]
  },
  {
   "cell_type": "code",
   "execution_count": 4,
   "metadata": {
    "collapsed": true
   },
   "outputs": [],
   "source": [
    "notas.V0226.cat.categories = ('Sim','Não')\n",
    "notas.V0227.cat.categories = ('Sim','Não')\n",
    "notas.V02272.cat.categories = ('Sim','Não')\n",
    "notas.V02273.cat.categories = ('Sim','Não',\"Não Sabe\")\n",
    "notas.V02274.cat.categories = ('Sim','Não',\"Não Sabe\")\n",
    "notas.V0232.cat.categories = ('Sim','Não')\n",
    "notas.V02321.cat.categories = ('Sim','Não')\n",
    "notas.V02322.cat.categories = ('Sim','Não')\n",
    "notas.V02323.cat.categories = ('Sim','Não')\n",
    "notas.V02324.cat.categories = ('Sim','Não')\n",
    "notas.V02325.cat.categories = ('Sim','Não')\n",
    "notas.V02326.cat.categories = ('Sim','Não')\n",
    "notas.V02327.cat.categories = ('Sim','Não')\n",
    "notas.V02424.cat.categories = ('Sim','Não')\n",
    "notas.V02425.cat.categories = ('Sim','Não')\n",
    "notas.V02426.cat.categories = ('Sim','Não')\n",
    "\n",
    "notas = notas.rename(columns={\"V0226\":\"Tv_em_cores\", \"V02326\": \"Tv_para_internet\", \"V0227\":\"Tv_em_preto_branco\", \"VV02272\":\n",
    "                             'Tv_por_assinatura', \"V02273\":\"Tv_com_sinal_digital\", \"V02274\":\"Tv_com_antena\", \"V0232\":\"Computador_para_internet\", \"V02321\":\"Tem_tablet\", \"V02322\":\"Internet_em_casa\", \"V02323\":\"Tv_com_antena\", \"V02324\":\"Celular_para_internet\", \"V02325\":\"Tablet_para_internet\", \"V02327\":\"Outros_para_internet\", \"V02424\":\"internet_3G/4G\", \"V02425\":\"internet_discada\", \"V02426\":\"internet_banda_larga\" })\n",
    "\n",
    "\n",
    "notas13.V0226.cat.categories = ('Sim','Não')\n",
    "notas13.V0227.cat.categories = ('Sim','Não')\n",
    "notas13.V02272.cat.categories = ('Sim','Não')\n",
    "notas13.V02273.cat.categories = ('Sim','Não',\"Não Sabe\")\n",
    "notas13.V02274.cat.categories = ('Sim','Não',\"Não Sabe\")\n",
    "notas13.V0232.cat.categories = ('Sim','Não')\n",
    "notas13.V02321.cat.categories = ('Sim','Não')\n",
    "notas13.V02322.cat.categories = ('Sim','Não')\n",
    "notas13.V02323.cat.categories = ('Sim','Não')\n",
    "notas13.V02324.cat.categories = ('Sim','Não')\n",
    "notas13.V02325.cat.categories = ('Sim','Não')\n",
    "notas13.V02326.cat.categories = ('Sim','Não')\n",
    "notas13.V02327.cat.categories = ('Sim','Não')\n",
    "notas13.V02424.cat.categories = ('Sim','Não')\n",
    "notas13.V02425.cat.categories = ('Sim','Não')\n",
    "notas13.V02426.cat.categories = ('Sim','Não')\n",
    "\n",
    "notas13 = notas13.rename(columns={\"V0226\":\"Tv_em_cores\", \"V02326\": \"Tv_para_internet\", \"V0227\":\"Tv_em_preto_branco\", \"VV02272\":\n",
    "                             'Tv_por_assinatura', \"V02273\":\"Tv_com_sinal_digital\", \"V02274\":\"Tv_com_antena\", \"V0232\":\"Computador_para_internet\", \"V02321\":\"Tem_tablet\", \"V02322\":\"Internet_em_casa\", \"V02323\":\"Tv_com_antena\", \"V02324\":\"Celular_para_internet\", \"V02325\":\"Tablet_para_internet\", \"V02327\":\"Outros_para_internet\", \"V02424\":\"internet_3G/4G\", \"V02425\":\"internet_discada\", \"V02426\":\"internet_banda_larga\" })\n",
    "\n",
    "\n",
    "notas14.V0226.cat.categories = ('Sim','Não')\n",
    "notas14.V0227.cat.categories = ('Sim','Não')\n",
    "notas14.V02272.cat.categories = ('Sim','Não')\n",
    "notas14.V02273.cat.categories = ('Sim','Não',\"Não Sabe\")\n",
    "notas14.V02274.cat.categories = ('Sim','Não',\"Não Sabe\")\n",
    "notas14.V0232.cat.categories = ('Sim','Não')\n",
    "notas14.V02321.cat.categories = ('Sim','Não')\n",
    "notas14.V02322.cat.categories = ('Sim','Não')\n",
    "notas14.V02323.cat.categories = ('Sim','Não')\n",
    "notas14.V02324.cat.categories = ('Sim','Não')\n",
    "notas14.V02325.cat.categories = ('Sim','Não')\n",
    "notas14.V02326.cat.categories = ('Sim','Não')\n",
    "notas14.V02327.cat.categories = ('Sim','Não')\n",
    "notas14.V02424.cat.categories = ('Sim','Não')\n",
    "notas14.V02425.cat.categories = ('Sim','Não')\n",
    "notas14.V02426.cat.categories = ('Sim','Não')\n",
    "\n",
    "notas14 = notas14.rename(columns={\"V0226\":\"Tv_em_cores\", \"V02326\": \"Tv_para_internet\", \"V0227\":\"Tv_em_preto_branco\", \"VV02272\":\n",
    "                             'Tv_por_assinatura', \"V02273\":\"Tv_com_sinal_digital\", \"V02274\":\"Tv_com_antena\", \"V0232\":\"Computador_para_internet\", \"V02321\":\"Tem_tablet\", \"V02322\":\"Internet_em_casa\", \"V02323\":\"Tv_com_antena\", \"V02324\":\"Celular_para_internet\", \"V02325\":\"Tablet_para_internet\", \"V02327\":\"Outros_para_internet\", \"V02424\":\"internet_3G/4G\", \"V02425\":\"internet_discada\", \"V02426\":\"internet_banda_larga\" })\n"
   ]
  },
  {
   "cell_type": "markdown",
   "metadata": {},
   "source": [
    "# Salvamento das novas planilhas com dados selecionados"
   ]
  },
  {
   "cell_type": "code",
   "execution_count": 5,
   "metadata": {},
   "outputs": [],
   "source": [
    "notas_tv = notas.iloc[:,35:43]\n",
    "notas_tv.to_csv('Dados_Sobre_tv.csv', sep=',')\n",
    "\n",
    "notas_internet = notas.iloc[:,47:58]\n",
    "notas_internet.to_csv('Dados_Sobre_internet.csv', sep=',')\n",
    "#notas_tv\n",
    "#notas_internet\n",
    "\n",
    "\n",
    "notas_tv13 = notas13.iloc[:,35:43]\n",
    "notas_tv13.to_csv('Dados_Sobre_tv13.csv', sep=',')\n",
    "\n",
    "notas_internet13 = notas13.iloc[:,47:58]\n",
    "notas_internet13.to_csv('Dados_Sobre_internet13.csv', sep=',')\n",
    "#notas_tv13\n",
    "#notas_internet13\n",
    "\n",
    "\n",
    "notas_tv14 = notas14.iloc[:,35:43]\n",
    "notas_tv14.to_csv('Dados_Sobre_tv14.csv', sep=',')\n",
    "\n",
    "notas_internet14 = notas14.iloc[:,47:58]\n",
    "notas_internet14.to_csv('Dados_Sobre_internet14.csv', sep=',')\n",
    "#notas_tv14\n",
    "#notas_internet14"
   ]
  },
  {
   "cell_type": "markdown",
   "metadata": {},
   "source": [
    "# Gráficos e tabelas"
   ]
  },
  {
   "cell_type": "code",
   "execution_count": 6,
   "metadata": {},
   "outputs": [
    {
     "name": "stdout",
     "output_type": "stream",
     "text": [
      "Televisão em cores:\n"
     ]
    },
    {
     "data": {
      "text/plain": [
       "Sim    113858\n",
       "Não      3743\n",
       "Name: Tv_em_cores, dtype: int64"
      ]
     },
     "execution_count": 6,
     "metadata": {},
     "output_type": "execute_result"
    }
   ],
   "source": [
    "print(\"Televisão em cores:\")\n",
    "notas.Tv_em_cores.value_counts()\n"
   ]
  },
  {
   "cell_type": "code",
   "execution_count": 7,
   "metadata": {},
   "outputs": [
    {
     "name": "stdout",
     "output_type": "stream",
     "text": [
      "Televisão em cores(porcentagem):\n"
     ]
    },
    {
     "data": {
      "text/plain": [
       "Sim    96.817204\n",
       "Não     3.182796\n",
       "Name: Tv_em_cores, dtype: float64"
      ]
     },
     "execution_count": 7,
     "metadata": {},
     "output_type": "execute_result"
    }
   ],
   "source": [
    "print(\"Televisão em cores(porcentagem):\")\n",
    "notas.Tv_em_cores.value_counts(True)*100"
   ]
  },
  {
   "cell_type": "code",
   "execution_count": 8,
   "metadata": {},
   "outputs": [
    {
     "name": "stdout",
     "output_type": "stream",
     "text": [
      "Televisão em preto e branco:\n"
     ]
    },
    {
     "data": {
      "text/plain": [
       "Não    3560\n",
       "Sim     183\n",
       "Name: Tv_em_preto_branco, dtype: int64"
      ]
     },
     "execution_count": 8,
     "metadata": {},
     "output_type": "execute_result"
    }
   ],
   "source": [
    "print(\"Televisão em preto e branco:\")\n",
    "notas.Tv_em_preto_branco.value_counts() # Televisão em preto e branco"
   ]
  },
  {
   "cell_type": "code",
   "execution_count": 9,
   "metadata": {},
   "outputs": [
    {
     "name": "stdout",
     "output_type": "stream",
     "text": [
      "Televisão em preto e branco(porcentagem):\n"
     ]
    },
    {
     "data": {
      "text/plain": [
       "Não    95.110874\n",
       "Sim     4.889126\n",
       "Name: Tv_em_preto_branco, dtype: float64"
      ]
     },
     "execution_count": 9,
     "metadata": {},
     "output_type": "execute_result"
    }
   ],
   "source": [
    "print(\"Televisão em preto e branco(porcentagem):\")\n",
    "notas.Tv_em_preto_branco.value_counts(True)*100"
   ]
  },
  {
   "cell_type": "code",
   "execution_count": 29,
   "metadata": {},
   "outputs": [
    {
     "data": {
      "text/html": [
       "<div>\n",
       "<style>\n",
       "    .dataframe thead tr:only-child th {\n",
       "        text-align: right;\n",
       "    }\n",
       "\n",
       "    .dataframe thead th {\n",
       "        text-align: left;\n",
       "    }\n",
       "\n",
       "    .dataframe tbody tr th {\n",
       "        vertical-align: top;\n",
       "    }\n",
       "</style>\n",
       "<table border=\"1\" class=\"dataframe\">\n",
       "  <thead>\n",
       "    <tr style=\"text-align: right;\">\n",
       "      <th>Tv_para_internet</th>\n",
       "      <th>Sim</th>\n",
       "      <th>Não</th>\n",
       "    </tr>\n",
       "    <tr>\n",
       "      <th>Tv_em_cores</th>\n",
       "      <th></th>\n",
       "      <th></th>\n",
       "    </tr>\n",
       "  </thead>\n",
       "  <tbody>\n",
       "    <tr>\n",
       "      <th>Sim</th>\n",
       "      <td>4908</td>\n",
       "      <td>62095</td>\n",
       "    </tr>\n",
       "    <tr>\n",
       "      <th>Não</th>\n",
       "      <td>0</td>\n",
       "      <td>831</td>\n",
       "    </tr>\n",
       "  </tbody>\n",
       "</table>\n",
       "</div>"
      ],
      "text/plain": [
       "Tv_para_internet   Sim    Não\n",
       "Tv_em_cores                  \n",
       "Sim               4908  62095\n",
       "Não                  0    831"
      ]
     },
     "execution_count": 29,
     "metadata": {},
     "output_type": "execute_result"
    }
   ],
   "source": [
    "pd.crosstab(notas.Tv_em_cores, notas.Tv_para_internet)"
   ]
  },
  {
   "cell_type": "code",
   "execution_count": 11,
   "metadata": {
    "scrolled": true
   },
   "outputs": [
    {
     "data": {
      "text/html": [
       "<div>\n",
       "<style>\n",
       "    .dataframe thead tr:only-child th {\n",
       "        text-align: right;\n",
       "    }\n",
       "\n",
       "    .dataframe thead th {\n",
       "        text-align: left;\n",
       "    }\n",
       "\n",
       "    .dataframe tbody tr th {\n",
       "        vertical-align: top;\n",
       "    }\n",
       "</style>\n",
       "<table border=\"1\" class=\"dataframe\">\n",
       "  <thead>\n",
       "    <tr style=\"text-align: right;\">\n",
       "      <th>Tv_para_internet</th>\n",
       "      <th>Sim</th>\n",
       "      <th>Não</th>\n",
       "    </tr>\n",
       "    <tr>\n",
       "      <th>Tv_em_cores</th>\n",
       "      <th></th>\n",
       "      <th></th>\n",
       "    </tr>\n",
       "  </thead>\n",
       "  <tbody>\n",
       "    <tr>\n",
       "      <th>Sim</th>\n",
       "      <td>7.23531</td>\n",
       "      <td>91.539641</td>\n",
       "    </tr>\n",
       "    <tr>\n",
       "      <th>Não</th>\n",
       "      <td>0.00000</td>\n",
       "      <td>1.225049</td>\n",
       "    </tr>\n",
       "  </tbody>\n",
       "</table>\n",
       "</div>"
      ],
      "text/plain": [
       "Tv_para_internet      Sim        Não\n",
       "Tv_em_cores                         \n",
       "Sim               7.23531  91.539641\n",
       "Não               0.00000   1.225049"
      ]
     },
     "execution_count": 11,
     "metadata": {},
     "output_type": "execute_result"
    }
   ],
   "source": [
    "pd.crosstab(notas.Tv_em_cores, notas.Tv_para_internet, normalize=True)*100"
   ]
  },
  {
   "cell_type": "code",
   "execution_count": 12,
   "metadata": {},
   "outputs": [
    {
     "data": {
      "text/plain": [
       "<matplotlib.text.Text at 0x25c80058dd8>"
      ]
     },
     "execution_count": 12,
     "metadata": {},
     "output_type": "execute_result"
    },
    {
     "data": {
      "image/png": "[encoded data removed]",
      "text/plain": [
       "<matplotlib.figure.Figure at 0x25ced781c18>"
      ]
     },
     "metadata": {},
     "output_type": "display_data"
    }
   ],
   "source": [
    "ct2 = pd.crosstab(notas.Tv_em_cores, notas.Tv_para_internet)\n",
    "ct2 = (ct2/ct2.sum().sum()*100).round(decimals=0)\n",
    "ct2.plot(kind='bar', color=('red','blue'))\n",
    "plt.ylabel('Frequência Relativa (em %)')"
   ]
  },
  {
   "cell_type": "code",
   "execution_count": 13,
   "metadata": {},
   "outputs": [
    {
     "data": {
      "text/plain": [
       "<matplotlib.text.Text at 0x25c8120efd0>"
      ]
     },
     "execution_count": 13,
     "metadata": {},
     "output_type": "execute_result"
    },
    {
     "data": {
      "image/png": "[encoded data removed]",
      "text/plain": [
       "<matplotlib.figure.Figure at 0x25c81421358>"
      ]
     },
     "metadata": {},
     "output_type": "display_data"
    }
   ],
   "source": [
    "ct2 = pd.crosstab(notas.Tv_para_internet, notas.Tv_em_cores)\n",
    "ct2 = (ct2/ct2.sum().sum()*100).round(decimals=0)\n",
    "ct2.plot(kind='bar', color=('red','blue'))\n",
    "plt.grid()\n",
    "plt.ylabel('Frequência Relativa (em %)')"
   ]
  },
  {
   "cell_type": "code",
   "execution_count": 14,
   "metadata": {},
   "outputs": [
    {
     "data": {
      "text/plain": [
       "67834"
      ]
     },
     "execution_count": 14,
     "metadata": {},
     "output_type": "execute_result"
    }
   ],
   "source": [
    "notas.Tv_para_internet.value_counts().sum()\n"
   ]
  },
  {
   "cell_type": "code",
   "execution_count": 15,
   "metadata": {},
   "outputs": [
    {
     "data": {
      "text/plain": [
       "67834"
      ]
     },
     "execution_count": 15,
     "metadata": {},
     "output_type": "execute_result"
    }
   ],
   "source": [
    "notas.Tablet_para_internet.value_counts().sum()"
   ]
  },
  {
   "cell_type": "code",
   "execution_count": 16,
   "metadata": {},
   "outputs": [
    {
     "data": {
      "text/plain": [
       "67834"
      ]
     },
     "execution_count": 16,
     "metadata": {},
     "output_type": "execute_result"
    }
   ],
   "source": [
    "notas.Celular_para_internet.value_counts().sum()"
   ]
  },
  {
   "cell_type": "code",
   "execution_count": 17,
   "metadata": {},
   "outputs": [
    {
     "data": {
      "text/plain": [
       "Sim    45945\n",
       "Não     6926\n",
       "Name: Computador_para_internet, dtype: int64"
      ]
     },
     "execution_count": 17,
     "metadata": {},
     "output_type": "execute_result"
    }
   ],
   "source": [
    "notas.Computador_para_internet.value_counts()\n"
   ]
  },
  {
   "cell_type": "code",
   "execution_count": 18,
   "metadata": {},
   "outputs": [
    {
     "data": {
      "text/plain": [
       "67834"
      ]
     },
     "execution_count": 18,
     "metadata": {},
     "output_type": "execute_result"
    }
   ],
   "source": [
    "notas.Outros_para_internet.value_counts().sum()"
   ]
  },
  {
   "cell_type": "code",
   "execution_count": 19,
   "metadata": {},
   "outputs": [
    {
     "data": {
      "text/plain": [
       "<matplotlib.text.Text at 0x25c812d95c0>"
      ]
     },
     "execution_count": 19,
     "metadata": {},
     "output_type": "execute_result"
    },
    {
     "data": {
      "image/png": "[encoded data removed]",
      "text/plain": [
       "<matplotlib.figure.Figure at 0x25c81297ba8>"
      ]
     },
     "metadata": {},
     "output_type": "display_data"
    }
   ],
   "source": [
    "ct4 = notas.Tv_para_internet[notas.Internet_em_casa == \"sim\"].value_counts()\n",
    "#ct4 = pd.crosstab([notas.Internet_em_casa == \"sim\"], notas.Tv_para_internet, notas.Tablet_para_internet, notas.Celular_para_internet, notas.Computador_para_internet, notas.Outros_para_internet)\n",
    "ct4.plot(kind='pie', autopct=\"%.2f\",legend=False)\n",
    "plt.title('Como usa a internet em casa')"
   ]
  },
  {
   "cell_type": "code",
   "execution_count": null,
   "metadata": {
    "collapsed": true
   },
   "outputs": [],
   "source": []
  }
 ],
 "metadata": {
  "kernelspec": {
   "display_name": "Python 3",
   "language": "python",
   "name": "python3"
  },
  "language_info": {
   "codemirror_mode": {
    "name": "ipython",
    "version": 3
   },
   "file_extension": ".py",
   "mimetype": "text/x-python",
   "name": "python",
   "nbconvert_exporter": "python",
   "pygments_lexer": "ipython3",
   "version": "3.6.1"
  }
 },
 "nbformat": 4,
 "nbformat_minor": 2
}
