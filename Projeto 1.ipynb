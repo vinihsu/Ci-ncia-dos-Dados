{
 "cells": [
  {
   "cell_type": "markdown",
   "metadata": {},
   "source": [
    "\n",
    "\n",
    "# Objetivo"
   ]
  },
  {
   "cell_type": "markdown",
   "metadata": {},
   "source": [
    "Analisar os meios(computador, tv, celular, tablet ou outros) de utilização da internet\n",
    "e a relação existente com a renda dos domicilios brasileiro nos anos de 2013, 2014 e \n",
    "2015 com base nos dados do PNAD realizado nestes anos."
   ]
  },
  {
   "cell_type": "markdown",
   "metadata": {},
   "source": [
    "# Import de dados"
   ]
  },
  {
   "cell_type": "code",
   "execution_count": 1,
   "metadata": {
    "collapsed": true
   },
   "outputs": [],
   "source": [
    "import pandas as pd\n",
    "\n",
    "import matplotlib.pyplot as plt\n",
    "import matplotlib\n",
    "%matplotlib inline\n",
    "\n",
    "notas = pd.read_table('DOM2015.csv', encoding=\"windows-1252\", sep=\",\")\n",
    "notas14 = pd.read_table('DOM2014.csv', encoding=\"windows-1252\", sep=\",\")\n",
    "notas13 = pd.read_table('DOM2013.csv', encoding=\"windows-1252\", sep=\",\")\n",
    "#notas"
   ]
  },
  {
   "cell_type": "markdown",
   "metadata": {},
   "source": [
    "# Verificação do tipo das colunas"
   ]
  },
  {
   "cell_type": "code",
   "execution_count": 2,
   "metadata": {},
   "outputs": [],
   "source": [
    "#notas.dtypes"
   ]
  },
  {
   "cell_type": "markdown",
   "metadata": {},
   "source": [
    "# Mudança do nome das colunas"
   ]
  },
  {
   "cell_type": "code",
   "execution_count": 3,
   "metadata": {},
   "outputs": [],
   "source": [
    "notas.V0226 = notas.V0226.astype('category')\n",
    "notas.V0227 = notas.V0227.astype('category')\n",
    "notas.V02272 = notas.V02272.astype('category')\n",
    "notas.V02273 = notas.V02273.astype('category')\n",
    "notas.V02274 = notas.V02274.astype('category')\n",
    "notas.V0232 = notas.V0232.astype('category')\n",
    "notas.V02321 = notas.V02321.astype('category')\n",
    "notas.V02322 = notas.V02322.astype('category')\n",
    "notas.V02323 = notas.V02323.astype('category')\n",
    "notas.V02324 = notas.V02324.astype('category')\n",
    "notas.V02325 = notas.V02325.astype('category')\n",
    "notas.V02326 = notas.V02326.astype('category')\n",
    "notas.V02327 = notas.V02327.astype('category')\n",
    "notas.V02424 = notas.V02424.astype('category')\n",
    "notas.V02425 = notas.V02425.astype('category')\n",
    "notas.V02426 = notas.V02426.astype('category')\n",
    "\n",
    "\n",
    "notas13.V0226 = notas.V0226.astype('category')\n",
    "notas13.V0227 = notas.V0227.astype('category')\n",
    "notas13.V02272 = notas.V02272.astype('category')\n",
    "notas13.V02273 = notas.V02273.astype('category')\n",
    "notas13.V02274 = notas.V02274.astype('category')\n",
    "notas13.V0232 = notas.V0232.astype('category')\n",
    "notas13.V02321 = notas.V02321.astype('category')\n",
    "notas13.V02322 = notas.V02322.astype('category')\n",
    "notas13.V02323 = notas.V02323.astype('category')\n",
    "notas13.V02324 = notas.V02324.astype('category')\n",
    "notas13.V02325 = notas.V02325.astype('category')\n",
    "notas13.V02326 = notas.V02326.astype('category')\n",
    "notas13.V02327 = notas.V02327.astype('category')\n",
    "notas13.V02424 = notas.V02424.astype('category')\n",
    "notas13.V02425 = notas.V02425.astype('category')\n",
    "notas13.V02426 = notas.V02426.astype('category')\n",
    "\n",
    "\n",
    "notas14.V0226 = notas.V0226.astype('category')\n",
    "notas14.V0227 = notas.V0227.astype('category')\n",
    "notas14.V02272 = notas.V02272.astype('category')\n",
    "notas14.V02273 = notas.V02273.astype('category')\n",
    "notas14.V02274 = notas.V02274.astype('category')\n",
    "notas14.V0232 = notas.V0232.astype('category')\n",
    "notas14.V02321 = notas.V02321.astype('category')\n",
    "notas14.V02322 = notas.V02322.astype('category')\n",
    "notas14.V02323 = notas.V02323.astype('category')\n",
    "notas14.V02324 = notas.V02324.astype('category')\n",
    "notas14.V02325 = notas.V02325.astype('category')\n",
    "notas14.V02326 = notas.V02326.astype('category')\n",
    "notas14.V02327 = notas.V02327.astype('category')\n",
    "notas14.V02424 = notas.V02424.astype('category')\n",
    "notas14.V02425 = notas.V02425.astype('category')\n",
    "notas14.V02426 = notas.V02426.astype('category')\n"
   ]
  },
  {
   "cell_type": "markdown",
   "metadata": {},
   "source": [
    "# Retirandno valores Não Aplicáveis\n"
   ]
  },
  {
   "cell_type": "code",
   "execution_count": 4,
   "metadata": {},
   "outputs": [],
   "source": [
    "\"\"\"notas = notas[pd.notnull(notas[\"V0226\"])]\n",
    "notas = notas[pd.notnull(notas[\"V0227\"])]\n",
    "notas = notas[pd.notnull(notas[\"V02272\"])]\n",
    "notas = notas[pd.notnull(notas[\"V02273\"])]\n",
    "notas = notas[pd.notnull(notas[\"V02274\"])]\n",
    "notas = notas[pd.notnull(notas[\"V0232\"])]\n",
    "notas = notas[pd.notnull(notas[\"V02321\"])]\n",
    "notas = notas[pd.notnull(notas[\"V02322\"])]\n",
    "notas = notas[pd.notnull(notas[\"V02323\"])]\n",
    "notas = notas[pd.notnull(notas[\"V02324\"])]\n",
    "notas = notas[pd.notnull(notas[\"V02325\"])]\n",
    "notas = notas[pd.notnull(notas[\"V02326\"])]\n",
    "notas = notas[pd.notnull(notas[\"V02327\"])]\n",
    "notas = notas[pd.notnull(notas[\"V02424\"])]\n",
    "notas = notas[pd.notnull(notas[\"V02425\"])]\n",
    "notas = notas[pd.notnull(notas[\"V02426\"])]\n",
    "\n",
    "\n",
    "notas13 = notas13[pd.notnull(notas13[\"V0226\"])]\n",
    "notas13 = notas13[pd.notnull(notas13[\"V0227\"])]\n",
    "notas13 = notas13[pd.notnull(notas13[\"V02272\"])]\n",
    "notas13 = notas13[pd.notnull(notas13[\"V02273\"])]\n",
    "notas13 = notas13[pd.notnull(notas13[\"V02274\"])]\n",
    "notas13 = notas13[pd.notnull(notas13[\"V0232\"])]\n",
    "notas13 = notas13[pd.notnull(notas13[\"V02321\"])]\n",
    "notas13 = notas13[pd.notnull(notas13[\"V02322\"])]\n",
    "notas13 = notas13[pd.notnull(notas13[\"V02323\"])]\n",
    "notas13 = notas13[pd.notnull(notas13[\"V02324\"])]\n",
    "notas13 = notas13[pd.notnull(notas13[\"V02325\"])]\n",
    "notas13 = notas13[pd.notnull(notas13[\"V02326\"])]\n",
    "notas13 = notas13[pd.notnull(notas13[\"V02327\"])]\n",
    "notas13 = notas13[pd.notnull(notas13[\"V02424\"])]\n",
    "notas13 = notas13[pd.notnull(notas13[\"V02425\"])]\n",
    "notas13 = notas13[pd.notnull(notas13[\"V02426\"])]\n",
    "\n",
    "\n",
    "notas14 = notas14[pd.notnull(notas14[\"V0226\"])]\n",
    "notas14 = notas14[pd.notnull(notas14[\"V0227\"])]\n",
    "notas14 = notas14[pd.notnull(notas14[\"V02272\"])]\n",
    "notas14 = notas14[pd.notnull(notas14[\"V02273\"])]\n",
    "notas14 = notas14[pd.notnull(notas14[\"V02274\"])]\n",
    "notas14 = notas14[pd.notnull(notas14[\"V0232\"])]\n",
    "notas14 = notas14[pd.notnull(notas14[\"V02321\"])]\n",
    "notas14 = notas14[pd.notnull(notas14[\"V02322\"])]\n",
    "notas14 = notas14[pd.notnull(notas14[\"V02323\"])]\n",
    "notas14 = notas14[pd.notnull(notas14[\"V02324\"])]\n",
    "notas14 = notas14[pd.notnull(notas14[\"V02325\"])]\n",
    "notas14 = notas14[pd.notnull(notas14[\"V02326\"])]\n",
    "notas14 = notas14[pd.notnull(notas14[\"V02327\"])]\n",
    "notas14 = notas14[pd.notnull(notas14[\"V02424\"])]\n",
    "notas14 = notas14[pd.notnull(notas14[\"V02425\"])]\n",
    "notas14 = notas14[pd.notnull(notas14[\"V02426\"])]\n",
    "\n",
    "notas=notas.dropna()\n",
    "notas\"\"\"\n",
    "\n",
    "notas = notas[(notas.V0232.notnull()) & (notas.V02321.notnull()) & (notas.V02322.notnull()) & (notas.V02323.notnull()) & (notas.V02324.notnull()) & (notas.V02325.notnull()) & (notas.V02326.notnull()) & (notas.V02327.notnull()) & (notas.V02424.notnull()) & (notas.V02425.notnull()) & (notas.V02426.notnull()) & (notas.V4621.notnull())]\n",
    "#notas\n",
    "\n",
    "notas13 = notas13[(notas13.V0232.notnull()) & (notas13.V02321.notnull()) & (notas13.V02322.notnull()) & (notas13.V02323.notnull()) & (notas13.V02324.notnull()) & (notas13.V02325.notnull()) & (notas13.V02326.notnull()) & (notas13.V02327.notnull()) & (notas13.V02424.notnull()) & (notas13.V02425.notnull()) & (notas13.V02426.notnull()) & (notas13.V4621.notnull())]\n",
    "\n",
    "\n",
    "notas14 = notas14[(notas14.V0232.notnull()) & (notas14.V02321.notnull()) & (notas14.V02322.notnull()) & (notas14.V02323.notnull()) & (notas14.V02324.notnull()) & (notas14.V02325.notnull()) & (notas14.V02326.notnull()) & (notas14.V02327.notnull()) & (notas14.V02424.notnull()) & (notas14.V02425.notnull()) & (notas14.V02426.notnull()) & (notas14.V4621.notnull())]\n",
    "#notas14\n"
   ]
  },
  {
   "cell_type": "markdown",
   "metadata": {},
   "source": [
    "\n",
    "# Troca de valores numérico por valores qualitativos"
   ]
  },
  {
   "cell_type": "code",
   "execution_count": 5,
   "metadata": {},
   "outputs": [],
   "source": [
    "notas.V0232.cat.categories = ('Sim','Não')\n",
    "notas.V02321.cat.categories = ('Sim','Não')\n",
    "notas.V02322.cat.categories = ('Sim','Não')\n",
    "notas.V02323.cat.categories = ('Sim','Não')\n",
    "notas.V02324.cat.categories = ('Sim','Não')\n",
    "notas.V02325.cat.categories = ('Sim','Não')\n",
    "notas.V02326.cat.categories = ('Sim','Não')\n",
    "notas.V02327.cat.categories = ('Sim','Não')\n",
    "notas.V02424.cat.categories = ('Sim','Não')\n",
    "notas.V02425.cat.categories = ('Sim','Não')\n",
    "notas.V02426.cat.categories = ('Sim','Não')\n",
    "\n",
    "notas = notas.rename(columns={\"V02326\": \"Tv_para_internet\", \"V0232\":\"Computador_para_internet\", \"V02321\":\"Tem_tablet\", \"V02322\":\"Internet_em_casa\", \"V02324\":\"Celular_para_internet\", \"V02325\":\"Tablet_para_internet\", \"V02327\":\"Outros_para_internet\", \"V02424\":\"internet_3G/4G\", \"V02425\":\"internet_discada\", \"V02426\":\"internet_banda_larga\", \"V4621\": \"Renda\" })\n",
    "\n",
    "\n",
    "notas13.V0232.cat.categories = ('Sim','Não')\n",
    "notas13.V02321.cat.categories = ('Sim','Não')\n",
    "notas13.V02322.cat.categories = ('Sim','Não')\n",
    "notas13.V02323.cat.categories = ('Sim','Não')\n",
    "notas13.V02324.cat.categories = ('Sim','Não')\n",
    "notas13.V02325.cat.categories = ('Sim','Não')\n",
    "notas13.V02326.cat.categories = ('Sim','Não')\n",
    "notas13.V02327.cat.categories = ('Sim','Não')\n",
    "notas13.V02424.cat.categories = ('Sim','Não')\n",
    "notas13.V02425.cat.categories = ('Sim','Não')\n",
    "notas13.V02426.cat.categories = ('Sim','Não')\n",
    "\n",
    "notas13 = notas13.rename(columns={\"V02326\": \"Tv_para_internet\", \"V0232\":\"Computador_para_internet\", \"V02321\":\"Tem_tablet\", \"V02322\":\"Internet_em_casa\", \"V02324\":\"Celular_para_internet\", \"V02325\":\"Tablet_para_internet\", \"V02327\":\"Outros_para_internet\", \"V02424\":\"internet_3G/4G\", \"V02425\":\"internet_discada\", \"V02426\":\"internet_banda_larga\", \"V4621\": \"Renda\" })\n",
    "\n",
    "\n",
    "notas14.V0232.cat.categories = ('Sim','Não')\n",
    "notas14.V02321.cat.categories = ('Sim','Não')\n",
    "notas14.V02322.cat.categories = ('Sim','Não')\n",
    "notas14.V02323.cat.categories = ('Sim','Não')\n",
    "notas14.V02324.cat.categories = ('Sim','Não')\n",
    "notas14.V02325.cat.categories = ('Sim','Não')\n",
    "notas14.V02326.cat.categories = ('Sim','Não')\n",
    "notas14.V02327.cat.categories = ('Sim','Não')\n",
    "notas14.V02424.cat.categories = ('Sim','Não')\n",
    "notas14.V02425.cat.categories = ('Sim','Não')\n",
    "notas14.V02426.cat.categories = ('Sim','Não')\n",
    "\n",
    "notas14 = notas14.rename(columns={\"V02326\": \"Tv_para_internet\", \"V0232\":\"Computador_para_internet\", \"V02321\":\"Tem_tablet\", \"V02322\":\"Internet_em_casa\", \"V02324\":\"Celular_para_internet\", \"V02325\":\"Tablet_para_internet\", \"V02327\":\"Outros_para_internet\", \"V02424\":\"internet_3G/4G\", \"V02425\":\"internet_discada\", \"V02426\":\"internet_banda_larga\", \"V4621\": \"Renda\" })\n",
    "\n",
    "notas13.Renda = notas13.Renda[notas13.Renda!=999999999999]"
   ]
  },
  {
   "cell_type": "code",
   "execution_count": 6,
   "metadata": {},
   "outputs": [
    {
     "data": {
      "text/html": [
       "<div>\n",
       "<style>\n",
       "    .dataframe thead tr:only-child th {\n",
       "        text-align: right;\n",
       "    }\n",
       "\n",
       "    .dataframe thead th {\n",
       "        text-align: left;\n",
       "    }\n",
       "\n",
       "    .dataframe tbody tr th {\n",
       "        vertical-align: top;\n",
       "    }\n",
       "</style>\n",
       "<table border=\"1\" class=\"dataframe\">\n",
       "  <thead>\n",
       "    <tr style=\"text-align: right;\">\n",
       "      <th></th>\n",
       "      <th>Renda</th>\n",
       "    </tr>\n",
       "  </thead>\n",
       "  <tbody>\n",
       "    <tr>\n",
       "      <th>2</th>\n",
       "      <td>350.0</td>\n",
       "    </tr>\n",
       "    <tr>\n",
       "      <th>3</th>\n",
       "      <td>339.0</td>\n",
       "    </tr>\n",
       "    <tr>\n",
       "      <th>5</th>\n",
       "      <td>400.0</td>\n",
       "    </tr>\n",
       "    <tr>\n",
       "      <th>8</th>\n",
       "      <td>1750.0</td>\n",
       "    </tr>\n",
       "    <tr>\n",
       "      <th>10</th>\n",
       "      <td>280.0</td>\n",
       "    </tr>\n",
       "    <tr>\n",
       "      <th>11</th>\n",
       "      <td>333.0</td>\n",
       "    </tr>\n",
       "    <tr>\n",
       "      <th>15</th>\n",
       "      <td>678.0</td>\n",
       "    </tr>\n",
       "    <tr>\n",
       "      <th>18</th>\n",
       "      <td>1178.0</td>\n",
       "    </tr>\n",
       "    <tr>\n",
       "      <th>19</th>\n",
       "      <td>500.0</td>\n",
       "    </tr>\n",
       "    <tr>\n",
       "      <th>20</th>\n",
       "      <td>666.0</td>\n",
       "    </tr>\n",
       "    <tr>\n",
       "      <th>28</th>\n",
       "      <td>960.0</td>\n",
       "    </tr>\n",
       "    <tr>\n",
       "      <th>29</th>\n",
       "      <td>800.0</td>\n",
       "    </tr>\n",
       "    <tr>\n",
       "      <th>31</th>\n",
       "      <td>1833.0</td>\n",
       "    </tr>\n",
       "    <tr>\n",
       "      <th>32</th>\n",
       "      <td>2000.0</td>\n",
       "    </tr>\n",
       "    <tr>\n",
       "      <th>33</th>\n",
       "      <td>372.0</td>\n",
       "    </tr>\n",
       "    <tr>\n",
       "      <th>42</th>\n",
       "      <td>212.0</td>\n",
       "    </tr>\n",
       "    <tr>\n",
       "      <th>43</th>\n",
       "      <td>335.0</td>\n",
       "    </tr>\n",
       "    <tr>\n",
       "      <th>44</th>\n",
       "      <td>533.0</td>\n",
       "    </tr>\n",
       "    <tr>\n",
       "      <th>45</th>\n",
       "      <td>0.0</td>\n",
       "    </tr>\n",
       "    <tr>\n",
       "      <th>50</th>\n",
       "      <td>0.0</td>\n",
       "    </tr>\n",
       "    <tr>\n",
       "      <th>74</th>\n",
       "      <td>1800.0</td>\n",
       "    </tr>\n",
       "    <tr>\n",
       "      <th>80</th>\n",
       "      <td>355.0</td>\n",
       "    </tr>\n",
       "    <tr>\n",
       "      <th>87</th>\n",
       "      <td>725.0</td>\n",
       "    </tr>\n",
       "    <tr>\n",
       "      <th>93</th>\n",
       "      <td>375.0</td>\n",
       "    </tr>\n",
       "    <tr>\n",
       "      <th>112</th>\n",
       "      <td>678.0</td>\n",
       "    </tr>\n",
       "    <tr>\n",
       "      <th>116</th>\n",
       "      <td>1210.0</td>\n",
       "    </tr>\n",
       "    <tr>\n",
       "      <th>124</th>\n",
       "      <td>500.0</td>\n",
       "    </tr>\n",
       "    <tr>\n",
       "      <th>139</th>\n",
       "      <td>871.0</td>\n",
       "    </tr>\n",
       "    <tr>\n",
       "      <th>140</th>\n",
       "      <td>375.0</td>\n",
       "    </tr>\n",
       "    <tr>\n",
       "      <th>143</th>\n",
       "      <td>358.0</td>\n",
       "    </tr>\n",
       "    <tr>\n",
       "      <th>...</th>\n",
       "      <td>...</td>\n",
       "    </tr>\n",
       "    <tr>\n",
       "      <th>148630</th>\n",
       "      <td>339.0</td>\n",
       "    </tr>\n",
       "    <tr>\n",
       "      <th>148633</th>\n",
       "      <td>2700.0</td>\n",
       "    </tr>\n",
       "    <tr>\n",
       "      <th>148634</th>\n",
       "      <td>1350.0</td>\n",
       "    </tr>\n",
       "    <tr>\n",
       "      <th>148636</th>\n",
       "      <td>339.0</td>\n",
       "    </tr>\n",
       "    <tr>\n",
       "      <th>148637</th>\n",
       "      <td>1200.0</td>\n",
       "    </tr>\n",
       "    <tr>\n",
       "      <th>148638</th>\n",
       "      <td>1139.0</td>\n",
       "    </tr>\n",
       "    <tr>\n",
       "      <th>148639</th>\n",
       "      <td>462.0</td>\n",
       "    </tr>\n",
       "    <tr>\n",
       "      <th>148640</th>\n",
       "      <td>400.0</td>\n",
       "    </tr>\n",
       "    <tr>\n",
       "      <th>148641</th>\n",
       "      <td>1200.0</td>\n",
       "    </tr>\n",
       "    <tr>\n",
       "      <th>148644</th>\n",
       "      <td>192.0</td>\n",
       "    </tr>\n",
       "    <tr>\n",
       "      <th>148646</th>\n",
       "      <td>800.0</td>\n",
       "    </tr>\n",
       "    <tr>\n",
       "      <th>148648</th>\n",
       "      <td>764.0</td>\n",
       "    </tr>\n",
       "    <tr>\n",
       "      <th>148651</th>\n",
       "      <td>0.0</td>\n",
       "    </tr>\n",
       "    <tr>\n",
       "      <th>148654</th>\n",
       "      <td>1150.0</td>\n",
       "    </tr>\n",
       "    <tr>\n",
       "      <th>148655</th>\n",
       "      <td>640.0</td>\n",
       "    </tr>\n",
       "    <tr>\n",
       "      <th>148656</th>\n",
       "      <td>1168.0</td>\n",
       "    </tr>\n",
       "    <tr>\n",
       "      <th>148661</th>\n",
       "      <td>800.0</td>\n",
       "    </tr>\n",
       "    <tr>\n",
       "      <th>148663</th>\n",
       "      <td>366.0</td>\n",
       "    </tr>\n",
       "    <tr>\n",
       "      <th>148665</th>\n",
       "      <td>6400.0</td>\n",
       "    </tr>\n",
       "    <tr>\n",
       "      <th>148666</th>\n",
       "      <td>10100.0</td>\n",
       "    </tr>\n",
       "    <tr>\n",
       "      <th>148669</th>\n",
       "      <td>23500.0</td>\n",
       "    </tr>\n",
       "    <tr>\n",
       "      <th>148678</th>\n",
       "      <td>7000.0</td>\n",
       "    </tr>\n",
       "    <tr>\n",
       "      <th>148680</th>\n",
       "      <td>538.0</td>\n",
       "    </tr>\n",
       "    <tr>\n",
       "      <th>148681</th>\n",
       "      <td>150.0</td>\n",
       "    </tr>\n",
       "    <tr>\n",
       "      <th>148683</th>\n",
       "      <td>750.0</td>\n",
       "    </tr>\n",
       "    <tr>\n",
       "      <th>148688</th>\n",
       "      <td>974.0</td>\n",
       "    </tr>\n",
       "    <tr>\n",
       "      <th>148690</th>\n",
       "      <td>516.0</td>\n",
       "    </tr>\n",
       "    <tr>\n",
       "      <th>148692</th>\n",
       "      <td>800.0</td>\n",
       "    </tr>\n",
       "    <tr>\n",
       "      <th>148694</th>\n",
       "      <td>387.0</td>\n",
       "    </tr>\n",
       "    <tr>\n",
       "      <th>148695</th>\n",
       "      <td>400.0</td>\n",
       "    </tr>\n",
       "  </tbody>\n",
       "</table>\n",
       "<p>35600 rows × 1 columns</p>\n",
       "</div>"
      ],
      "text/plain": [
       "          Renda\n",
       "2         350.0\n",
       "3         339.0\n",
       "5         400.0\n",
       "8        1750.0\n",
       "10        280.0\n",
       "11        333.0\n",
       "15        678.0\n",
       "18       1178.0\n",
       "19        500.0\n",
       "20        666.0\n",
       "28        960.0\n",
       "29        800.0\n",
       "31       1833.0\n",
       "32       2000.0\n",
       "33        372.0\n",
       "42        212.0\n",
       "43        335.0\n",
       "44        533.0\n",
       "45          0.0\n",
       "50          0.0\n",
       "74       1800.0\n",
       "80        355.0\n",
       "87        725.0\n",
       "93        375.0\n",
       "112       678.0\n",
       "116      1210.0\n",
       "124       500.0\n",
       "139       871.0\n",
       "140       375.0\n",
       "143       358.0\n",
       "...         ...\n",
       "148630    339.0\n",
       "148633   2700.0\n",
       "148634   1350.0\n",
       "148636    339.0\n",
       "148637   1200.0\n",
       "148638   1139.0\n",
       "148639    462.0\n",
       "148640    400.0\n",
       "148641   1200.0\n",
       "148644    192.0\n",
       "148646    800.0\n",
       "148648    764.0\n",
       "148651      0.0\n",
       "148654   1150.0\n",
       "148655    640.0\n",
       "148656   1168.0\n",
       "148661    800.0\n",
       "148663    366.0\n",
       "148665   6400.0\n",
       "148666  10100.0\n",
       "148669  23500.0\n",
       "148678   7000.0\n",
       "148680    538.0\n",
       "148681    150.0\n",
       "148683    750.0\n",
       "148688    974.0\n",
       "148690    516.0\n",
       "148692    800.0\n",
       "148694    387.0\n",
       "148695    400.0\n",
       "\n",
       "[35600 rows x 1 columns]"
      ]
     },
     "execution_count": 6,
     "metadata": {},
     "output_type": "execute_result"
    }
   ],
   "source": [
    "notas13 = notas13[(notas13.Renda.notnull())]\n",
    "notas13.iloc[:, -22:-21]"
   ]
  },
  {
   "cell_type": "markdown",
   "metadata": {},
   "source": [
    "# Salvamento das novas planilhas com dados selecionados"
   ]
  },
  {
   "cell_type": "code",
   "execution_count": 7,
   "metadata": {},
   "outputs": [],
   "source": [
    "notas_tv = notas.iloc[:,35:43]\n",
    "notas_tv.to_csv('Dados_Sobre_tv.csv', sep=',')\n",
    "\n",
    "notas_internet = notas.iloc[:,47:58]\n",
    "notas_internet.to_csv('Dados_Sobre_internet.csv', sep=',')\n",
    "notas\n",
    "#notas_internet\n",
    "\n",
    "\n",
    "notas_tv13 = notas13.iloc[:,35:43]\n",
    "notas_tv13.to_csv('Dados_Sobre_tv13.csv', sep=',')\n",
    "\n",
    "notas_internet13 = notas13.iloc[:,47:58]\n",
    "notas_internet13.to_csv('Dados_Sobre_internet13.csv', sep=',')\n",
    "#notas_tv13\n",
    "#notas_internet13\n",
    "\n",
    "\n",
    "notas_tv14 = notas14.iloc[:,35:43]\n",
    "notas_tv14.to_csv('Dados_Sobre_tv14.csv', sep=',')\n",
    "\n",
    "notas_internet14 = notas14.iloc[:,47:58]\n",
    "notas_internet14.to_csv('Dados_Sobre_internet14.csv', sep=',')\n",
    "#notas_tv14\n",
    "#notas_internet14"
   ]
  },
  {
   "cell_type": "code",
   "execution_count": 8,
   "metadata": {},
   "outputs": [
    {
     "data": {
      "text/plain": [
       "(0, 1000]       67.927427\n",
       "(1000, 2000]    21.984516\n",
       "(2000, 3000]     5.971869\n",
       "(3000, 4000]     2.662372\n",
       "(4000, 5000]     1.453815\n",
       "Name: Renda, dtype: float64"
      ]
     },
     "execution_count": 8,
     "metadata": {},
     "output_type": "execute_result"
    }
   ],
   "source": [
    "Renda13_cat = pd.cut(notas13.Renda, bins=10)\n",
    "Renda14_cat = pd.cut(notas14.Renda, bins=10)\n",
    "Renda_cat = pd.cut(notas.Renda, bins=10)\n",
    "\n",
    "faixa = range(0,5001,1000)\n",
    "Renda13_cat = pd.cut(notas13.Renda, bins=faixa)\n",
    "Renda13_cat.value_counts(sort=False, normalize=True)*100"
   ]
  },
  {
   "cell_type": "code",
   "execution_count": 9,
   "metadata": {},
   "outputs": [
    {
     "data": {
      "text/plain": [
       "(0, 1000]       61.876668\n",
       "(1000, 2000]    25.101840\n",
       "(2000, 3000]     7.225734\n",
       "(3000, 4000]     3.587583\n",
       "(4000, 5000]     2.208175\n",
       "Name: Renda, dtype: float64"
      ]
     },
     "execution_count": 9,
     "metadata": {},
     "output_type": "execute_result"
    }
   ],
   "source": [
    "Renda14_cat = pd.cut(notas14.Renda, bins=faixa)\n",
    "Renda14_cat.value_counts(sort=False, normalize=True)*100"
   ]
  },
  {
   "cell_type": "code",
   "execution_count": 10,
   "metadata": {},
   "outputs": [
    {
     "data": {
      "text/plain": [
       "(0, 1000]       48.703796\n",
       "(1000, 2000]    31.264987\n",
       "(2000, 3000]    11.269963\n",
       "(3000, 4000]     5.705108\n",
       "(4000, 5000]     3.056146\n",
       "Name: Renda, dtype: float64"
      ]
     },
     "execution_count": 10,
     "metadata": {},
     "output_type": "execute_result"
    }
   ],
   "source": [
    "Renda_cat = pd.cut(notas.Renda, bins=faixa)\n",
    "Renda_cat.value_counts(sort=False, normalize=True)*100"
   ]
  },
  {
   "cell_type": "markdown",
   "metadata": {},
   "source": [
    "# Gráficos e tabelas"
   ]
  },
  {
   "cell_type": "code",
   "execution_count": 11,
   "metadata": {},
   "outputs": [
    {
     "data": {
      "text/plain": [
       "<matplotlib.text.Text at 0x1b7c4ccb400>"
      ]
     },
     "execution_count": 11,
     "metadata": {},
     "output_type": "execute_result"
    },
    {
     "data": {
      "image/png": "[encoded data removed]",
      "text/plain": [
       "<matplotlib.figure.Figure at 0x1b7c4afc630>"
      ]
     },
     "metadata": {},
     "output_type": "display_data"
    }
   ],
   "source": [
    "from numpy import zeros_like\n",
    "plot = notas13.Renda.plot.hist(bins=faixa,title='GRAFICO DE COLUNAS', weights=zeros_like(notas13.Renda)+1./notas13.Renda.size*100, figsize=(6, 6), alpha=0.9)\n",
    "plt.ylabel('Porcentagem')\n",
    "plt.xlabel('renda mensal(em reais)')"
   ]
  },
  {
   "cell_type": "code",
   "execution_count": 12,
   "metadata": {},
   "outputs": [
    {
     "data": {
      "text/plain": [
       "<matplotlib.text.Text at 0x1b7c4fdb4a8>"
      ]
     },
     "execution_count": 12,
     "metadata": {},
     "output_type": "execute_result"
    },
    {
     "data": {
      "image/png": "[encoded data removed]",
      "text/plain": [
       "<matplotlib.figure.Figure at 0x1b7c4e16860>"
      ]
     },
     "metadata": {},
     "output_type": "display_data"
    }
   ],
   "source": [
    "plot = notas14.Renda.plot.hist(bins=faixa,title='GRAFICO DE COLUNAS', weights=zeros_like(notas14.Renda)+1./notas14.Renda.size*100, figsize=(6, 6), alpha=0.9)\n",
    "plt.ylabel('Porcentagem')\n",
    "plt.xlabel('renda mensal(em reais)')"
   ]
  },
  {
   "cell_type": "code",
   "execution_count": 13,
   "metadata": {},
   "outputs": [
    {
     "data": {
      "text/plain": [
       "<matplotlib.text.Text at 0x1b7c4fcc358>"
      ]
     },
     "execution_count": 13,
     "metadata": {},
     "output_type": "execute_result"
    },
    {
     "data": {
      "image/png": "[encoded data removed]",
      "text/plain": [
       "<matplotlib.figure.Figure at 0x1b7c51d5f98>"
      ]
     },
     "metadata": {},
     "output_type": "display_data"
    }
   ],
   "source": [
    "\n",
    "plot = notas.Renda.plot.hist(bins=faixa, title='GRAFICO DE COLUNAS',  weights=zeros_like(notas.Renda)+1./notas.Renda.size*100, figsize=(6, 6), alpha=0.9)\n",
    "plt.ylabel('Porcentagem')\n",
    "plt.xlabel('renda mensal (em reais)')"
   ]
  },
  {
   "cell_type": "code",
   "execution_count": 14,
   "metadata": {},
   "outputs": [
    {
     "data": {
      "text/plain": [
       "<matplotlib.text.Text at 0x1b7c6730160>"
      ]
     },
     "execution_count": 14,
     "metadata": {},
     "output_type": "execute_result"
    },
    {
     "data": {
      "image/png": "[encoded data removed]",
      "text/plain": [
       "<matplotlib.figure.Figure at 0x1b7c65d8a20>"
      ]
     },
     "metadata": {},
     "output_type": "display_data"
    }
   ],
   "source": [
    "ct = pd.crosstab(notas13.Tem_tablet, notas13.Tablet_para_internet)\n",
    "sim = notas13.Tablet_para_internet[notas13.Tem_tablet == 'Sim'].value_counts()\n",
    "sim.plot(kind='pie', autopct=\"%.2f\",legend=False)\n",
    "plt.title('Uso do tablet para internet')"
   ]
  },
  {
   "cell_type": "code",
   "execution_count": 15,
   "metadata": {},
   "outputs": [
    {
     "data": {
      "text/plain": [
       "<matplotlib.text.Text at 0x1b7c506df60>"
      ]
     },
     "execution_count": 15,
     "metadata": {},
     "output_type": "execute_result"
    },
    {
     "data": {
      "image/png": "[encoded data removed]",
      "text/plain": [
       "<matplotlib.figure.Figure at 0x1b7c65b1048>"
      ]
     },
     "metadata": {},
     "output_type": "display_data"
    }
   ],
   "source": [
    "ct = pd.crosstab(notas14.Tem_tablet, notas14.Tablet_para_internet)\n",
    "sim = notas14.Tablet_para_internet[notas14.Tem_tablet == 'Sim'].value_counts()\n",
    "sim.plot(kind='pie', autopct=\"%.2f\",legend=False)\n",
    "plt.title('Uso do tablet para internet')"
   ]
  },
  {
   "cell_type": "code",
   "execution_count": 16,
   "metadata": {},
   "outputs": [
    {
     "data": {
      "text/plain": [
       "<matplotlib.text.Text at 0x1b7c4eb75f8>"
      ]
     },
     "execution_count": 16,
     "metadata": {},
     "output_type": "execute_result"
    },
    {
     "data": {
      "image/png": "[encoded data removed]",
      "text/plain": [
       "<matplotlib.figure.Figure at 0x1b7c5140198>"
      ]
     },
     "metadata": {},
     "output_type": "display_data"
    }
   ],
   "source": [
    "ct = pd.crosstab(notas.Tem_tablet, notas.Tablet_para_internet)\n",
    "sim = notas.Tablet_para_internet[notas.Tem_tablet == 'Sim'].value_counts()\n",
    "sim.plot(kind='pie', autopct=\"%.2f\",legend=False)\n",
    "plt.title('Uso do tablet para internet')"
   ]
  },
  {
   "cell_type": "code",
   "execution_count": 17,
   "metadata": {},
   "outputs": [
    {
     "data": {
      "text/plain": [
       "Sim    45945\n",
       "Não     2953\n",
       "Name: Computador_para_internet, dtype: int64"
      ]
     },
     "execution_count": 17,
     "metadata": {},
     "output_type": "execute_result"
    }
   ],
   "source": [
    "notas.Computador_para_internet.value_counts()\n"
   ]
  },
  {
   "cell_type": "code",
   "execution_count": 18,
   "metadata": {},
   "outputs": [
    {
     "data": {
      "text/plain": [
       "48898"
      ]
     },
     "execution_count": 18,
     "metadata": {},
     "output_type": "execute_result"
    }
   ],
   "source": [
    "notas.Outros_para_internet.value_counts().sum()"
   ]
  },
  {
   "cell_type": "code",
   "execution_count": null,
   "metadata": {},
   "outputs": [],
   "source": []
  },
  {
   "cell_type": "code",
   "execution_count": null,
   "metadata": {
    "collapsed": true
   },
   "outputs": [],
   "source": []
  }
 ],
 "metadata": {
  "kernelspec": {
   "display_name": "Python 3",
   "language": "python",
   "name": "python3"
  },
  "language_info": {
   "codemirror_mode": {
    "name": "ipython",
    "version": 3
   },
   "file_extension": ".py",
   "mimetype": "text/x-python",
   "name": "python",
   "nbconvert_exporter": "python",
   "pygments_lexer": "ipython3",
   "version": "3.6.1"
  }
 },
 "nbformat": 4,
 "nbformat_minor": 2
}
